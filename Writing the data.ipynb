{
 "cells": [
  {
   "cell_type": "markdown",
   "id": "efbe2100",
   "metadata": {},
   "source": [
    "# Writing the data"
   ]
  },
  {
   "cell_type": "code",
   "execution_count": 12,
   "id": "75904f79",
   "metadata": {},
   "outputs": [],
   "source": [
    "records = {101: {\"name\": \"Bread\" ,  \"Price\": 25 ,   \"Quantity\": 100 , \"Stock\": \"YES\" ,  \"Section\": \"Baked goods\" },\n",
    "           102: {\"name\": \"Cake\" ,   \"Price\": 125 ,  \"Quantity\": 50 ,  \"Stock\": \"YES\",   \"Section\": \"Cakes and Cookies\" },\n",
    "           103: {\"name\": \"Cookies\" ,\"Price\": 30 ,   \"Quantity\": 100 , \"Stock\": \"YES\",   \"Section\": \"Cakes and Cookies\" },\n",
    "           104: {\"name\": \"Pastry\" , \"Price\": 50 ,   \"Quantity\": 100 , \"Stock\": \"YES\" ,  \"Section\": \"Cakes and Cookies\" },\n",
    "           105: {\"name\": \"Milk\" ,   \"Price\": 45 ,   \"Quantity\": 100 , \"Stock\": \"YES\" ,  \"Section\": \"Dairy products\" },\n",
    "           106: {\"name\": \"Cheese\" , \"Price\": 55 ,   \"Quantity\": 100 , \"Stock\": \"YES\",   \"Section\": \"Dairy products\"  },\n",
    "           107: {\"name\": \"Ice cream\",\"Price\": 15 ,  \"Quantity\": 100 , \"Stock\": \"YES\",   \"Section\": \"Dairy products\"  },\n",
    "           108: {\"name\": \"TATA\" ,   \"Price\": 95 ,   \"Quantity\": 100 , \"Stock\": \"YES\" ,  \"Section\": \"Tea\"  },\n",
    "           109: {\"name\": \"Basmati\" ,\"Price\": 55 ,   \"Quantity\": 100 , \"Stock\": \"YES\",   \"Section\": \"Rice\"  },\n",
    "           110: {\"name\": \"Maggie\" , \"Price\": 15 ,   \"Quantity\": 100 , \"Stock\": \"YES\" ,  \"Section\": \"Noodles\" },\n",
    "           111: {\"name\": \"Yippi\" ,  \"Price\": 15 ,   \"Quantity\": 100 , \"Stock\": \"YES\",   \"Section\": \"Noodles\"  },\n",
    "           112: {\"name\": \"Dove\" ,   \"Price\": 35 ,   \"Quantity\": 100 , \"Stock\": \"YES\",   \"Section\": \"Soap\"  },\n",
    "           113: {\"name\": \"H&S\" ,    \"Price\": 20 ,   \"Quantity\": 100 , \"Stock\": \"YES\",   \"Section\": \"Sampoo\"  },\n",
    "           114: {\"name\": \"Clinic Plus\",\"Price\": 20 ,\"Quantity\": 100 , \"Stock\": \"YES\",   \"Section\": \"Sampoo\"  },\n",
    "           115: {\"name\": \"juice,\" , \"Price\": 40 ,   \"Quantity\": 100 , \"Stock\": \"YES\" ,  \"Section\": \"Beverages\" },\n",
    "           116: {\"name\": \"Sode,\" ,  \"Price\": 20 ,   \"Quantity\": 100 , \"Stock\": \"YES\" ,  \"Section\": \"Beverages\" },\n",
    "           117: {\"name\": \"Coffee,\" ,\"Price\": 50 ,   \"Quantity\": 100 , \"Stock\": \"YES\" ,  \"Section\": \"Beverages\" },\n",
    "           118: {\"name\": \"juice,\" , \"Price\": 55 ,   \"Quantity\": 100 , \"Stock\": \"YES\" ,  \"Section\": \"Beverages\" },\n",
    "           119: {\"name\": \"vegetables,\",\"Price\": 105 ,\"Quantity\": 100 , \"Stock\": \"YES\" ,   \"Section\": \"Jarred Goods\" },\n",
    "           120: {\"name\": \"ketchup,\" ,\"Price\": 60 ,  \"Quantity\": 100 , \"Stock\": \"YES\" ,   \"Section\": \"Jarred Goods\" },\n",
    "           121: {\"name\": \"flour,\" ,  \"Price\": 60 ,  \"Quantity\": 100 , \"Stock\": \"YES\" ,   \"Section\": \"Dry Goods\" },\n",
    "           122: {\"name\": \"sugar,\" ,  \"Price\": 50 ,  \"Quantity\": 100 , \"Stock\": \"YES\" ,   \"Section\": \"Dry Goods\" },\n",
    "           123: {\"name\": \"pasta,\" ,  \"Price\": 25 ,  \"Quantity\": 100 , \"Stock\": \"YES\" ,   \"Section\": \"Dry Goods\" },\n",
    "           124: {\"name\": \"pork,\" ,   \"Price\": 95 ,  \"Quantity\": 100 , \"Stock\": \"YES\" ,   \"Section\": \"Meat\" },\n",
    "           125: {\"name\": \"poultry,\" ,\"Price\": 155 ,  \"Quantity\": 100 , \"Stock\": \"YES\" ,   \"Section\": \"Meat\" },\n",
    "           126: {\"name\": \"dishwashing liquid,\",\"Price\": 42 , \"Quantity\": 100 ,\"Stock\":\"YES\" ,\"Section\": \"Cleaners\" },\n",
    "           127: {\"name\": \"laundry detergent,\",\"Price\": 36 , \"Quantity\": 100 , \"Stock\": \"YES\" ,\"Section\": \"Cleaners\" },\n",
    "           128: {\"name\": \" paper towels,\",\"Price\": 44 ,\"Quantity\": 100 ,\"Stock\": \"YES\" , \"Section\": \"PaperGoods\" },\n",
    "           129: {\"name\": \"sandwich bags,\",\"Price\": 5 ,\"Quantity\": 100 ,\"Stock\": \"YES\" , \"Section\": \"PaperGoods\" },\n",
    "           130: {\"name\": \"toilet paper,\",\"Price\": 30 , \"Quantity\": 100 ,\"Stock\": \"YES\" , \"Section\": \"PaperGoods\" }}"
   ]
  },
  {
   "cell_type": "markdown",
   "id": "00cae681",
   "metadata": {},
   "source": [
    "# Update the data json file"
   ]
  },
  {
   "cell_type": "code",
   "execution_count": 13,
   "id": "9cfa467b",
   "metadata": {},
   "outputs": [],
   "source": [
    "import json\n",
    "js = json.dumps(records)\n",
    "fd = open(\"records.json \", \"w\")\n",
    "fd.write(js)\n",
    "fd.close()"
   ]
  },
  {
   "cell_type": "code",
   "execution_count": 14,
   "id": "df92e00e",
   "metadata": {},
   "outputs": [
    {
     "data": {
      "text/plain": [
       "'{\"101\": {\"name\": \"Bread\", \"Price\": 25, \"Quantity\": 100, \"Stock\": \"YES\", \"Section\": \"Baked goods\"}, \"102\": {\"name\": \"Cake\", \"Price\": 125, \"Quantity\": 50, \"Stock\": \"YES\", \"Section\": \"Cakes and Cookies\"}, \"103\": {\"name\": \"Cookies\", \"Price\": 30, \"Quantity\": 100, \"Stock\": \"YES\", \"Section\": \"Cakes and Cookies\"}, \"104\": {\"name\": \"Pastry\", \"Price\": 50, \"Quantity\": 100, \"Stock\": \"YES\", \"Section\": \"Cakes and Cookies\"}, \"105\": {\"name\": \"Milk\", \"Price\": 45, \"Quantity\": 100, \"Stock\": \"YES\", \"Section\": \"Dairy products\"}, \"106\": {\"name\": \"Cheese\", \"Price\": 55, \"Quantity\": 100, \"Stock\": \"YES\", \"Section\": \"Dairy products\"}, \"107\": {\"name\": \"Ice cream\", \"Price\": 15, \"Quantity\": 100, \"Stock\": \"YES\", \"Section\": \"Dairy products\"}, \"108\": {\"name\": \"TATA\", \"Price\": 95, \"Quantity\": 100, \"Stock\": \"YES\", \"Section\": \"Tea\"}, \"109\": {\"name\": \"Basmati\", \"Price\": 55, \"Quantity\": 100, \"Stock\": \"YES\", \"Section\": \"Rice\"}, \"110\": {\"name\": \"Maggie\", \"Price\": 15, \"Quantity\": 100, \"Stock\": \"YES\", \"Section\": \"Noodles\"}, \"111\": {\"name\": \"Yippi\", \"Price\": 15, \"Quantity\": 100, \"Stock\": \"YES\", \"Section\": \"Noodles\"}, \"112\": {\"name\": \"Dove\", \"Price\": 35, \"Quantity\": 100, \"Stock\": \"YES\", \"Section\": \"Soap\"}, \"113\": {\"name\": \"H&S\", \"Price\": 20, \"Quantity\": 100, \"Stock\": \"YES\", \"Section\": \"Sampoo\"}, \"114\": {\"name\": \"Clinic Plus\", \"Price\": 20, \"Quantity\": 100, \"Stock\": \"YES\", \"Section\": \"Sampoo\"}, \"115\": {\"name\": \"juice,\", \"Price\": 40, \"Quantity\": 100, \"Stock\": \"YES\", \"Section\": \"Beverages\"}, \"116\": {\"name\": \"Sode,\", \"Price\": 20, \"Quantity\": 100, \"Stock\": \"YES\", \"Section\": \"Beverages\"}, \"117\": {\"name\": \"Coffee,\", \"Price\": 50, \"Quantity\": 100, \"Stock\": \"YES\", \"Section\": \"Beverages\"}, \"118\": {\"name\": \"juice,\", \"Price\": 55, \"Quantity\": 100, \"Stock\": \"YES\", \"Section\": \"Beverages\"}, \"119\": {\"name\": \"vegetables,\", \"Price\": 105, \"Quantity\": 100, \"Stock\": \"YES\", \"Section\": \"Jarred Goods\"}, \"120\": {\"name\": \"ketchup,\", \"Price\": 60, \"Quantity\": 100, \"Stock\": \"YES\", \"Section\": \"Jarred Goods\"}, \"121\": {\"name\": \"flour,\", \"Price\": 60, \"Quantity\": 100, \"Stock\": \"YES\", \"Section\": \"Dry Goods\"}, \"122\": {\"name\": \"sugar,\", \"Price\": 50, \"Quantity\": 100, \"Stock\": \"YES\", \"Section\": \"Dry Goods\"}, \"123\": {\"name\": \"pasta,\", \"Price\": 25, \"Quantity\": 100, \"Stock\": \"YES\", \"Section\": \"Dry Goods\"}, \"124\": {\"name\": \"pork,\", \"Price\": 95, \"Quantity\": 100, \"Stock\": \"YES\", \"Section\": \"Meat\"}, \"125\": {\"name\": \"poultry,\", \"Price\": 155, \"Quantity\": 100, \"Stock\": \"YES\", \"Section\": \"Meat\"}, \"126\": {\"name\": \"dishwashing liquid,\", \"Price\": 42, \"Quantity\": 100, \"Stock\": \"YES\", \"Section\": \"Cleaners\"}, \"127\": {\"name\": \"laundry detergent,\", \"Price\": 36, \"Quantity\": 100, \"Stock\": \"YES\", \"Section\": \"Cleaners\"}, \"128\": {\"name\": \" paper towels,\", \"Price\": 44, \"Quantity\": 100, \"Stock\": \"YES\", \"Section\": \"PaperGoods\"}, \"129\": {\"name\": \"sandwich bags,\", \"Price\": 5, \"Quantity\": 100, \"Stock\": \"YES\", \"Section\": \"PaperGoods\"}, \"130\": {\"name\": \"toilet paper,\", \"Price\": 30, \"Quantity\": 100, \"Stock\": \"YES\", \"Section\": \"PaperGoods\"}}'"
      ]
     },
     "execution_count": 14,
     "metadata": {},
     "output_type": "execute_result"
    }
   ],
   "source": [
    "fd = open(\"records.json \", \"r\")\n",
    "txt = fd.read()\n",
    "fd.close()\n",
    "\n",
    "txt"
   ]
  },
  {
   "cell_type": "code",
   "execution_count": null,
   "id": "111f178c",
   "metadata": {},
   "outputs": [],
   "source": []
  }
 ],
 "metadata": {
  "kernelspec": {
   "display_name": "Python 3",
   "language": "python",
   "name": "python3"
  },
  "language_info": {
   "codemirror_mode": {
    "name": "ipython",
    "version": 3
   },
   "file_extension": ".py",
   "mimetype": "text/x-python",
   "name": "python",
   "nbconvert_exporter": "python",
   "pygments_lexer": "ipython3",
   "version": "3.8.8"
  }
 },
 "nbformat": 4,
 "nbformat_minor": 5
}
